{
  "cells": [
    {
      "cell_type": "markdown",
      "metadata": {
        "id": "view-in-github",
        "colab_type": "text"
      },
      "source": [
        "<a href=\"https://colab.research.google.com/github/ad17171717/ad17171717/blob/main/Google%20Colab%20Tutorials/Google_Colab!_Copying_Files.ipynb\" target=\"_parent\"><img src=\"https://colab.research.google.com/assets/colab-badge.svg\" alt=\"Open In Colab\"/></a>"
      ]
    },
    {
      "cell_type": "code",
      "source": [
        "import shutil\n",
        "import os"
      ],
      "metadata": {
        "id": "-iAad4vBg4Tq"
      },
      "execution_count": 1,
      "outputs": []
    },
    {
      "cell_type": "code",
      "source": [
        "!cat /content/sample_data/README.md"
      ],
      "metadata": {
        "colab": {
          "base_uri": "https://localhost:8080/"
        },
        "id": "LBMtdkeiL23h",
        "outputId": "0691787f-0c5d-4c51-bc18-c45f6cbf4734"
      },
      "execution_count": 2,
      "outputs": [
        {
          "output_type": "stream",
          "name": "stdout",
          "text": [
            "This directory includes a few sample datasets to get you started.\n",
            "\n",
            "*   `california_housing_data*.csv` is California housing data from the 1990 US\n",
            "    Census; more information is available at:\n",
            "    https://developers.google.com/machine-learning/crash-course/california-housing-data-description\n",
            "\n",
            "*   `mnist_*.csv` is a small sample of the\n",
            "    [MNIST database](https://en.wikipedia.org/wiki/MNIST_database), which is\n",
            "    described at: http://yann.lecun.com/exdb/mnist/\n",
            "\n",
            "*   `anscombe.json` contains a copy of\n",
            "    [Anscombe's quartet](https://en.wikipedia.org/wiki/Anscombe%27s_quartet); it\n",
            "    was originally described in\n",
            "\n",
            "    Anscombe, F. J. (1973). 'Graphs in Statistical Analysis'. American\n",
            "    Statistician. 27 (1): 17-21. JSTOR 2682899.\n",
            "\n",
            "    and our copy was prepared by the\n",
            "    [vega_datasets library](https://github.com/altair-viz/vega_datasets/blob/4f67bdaad10f45e3549984e17e1b3088c731503d/vega_datasets/_data/anscombe.json).\n"
          ]
        }
      ]
    },
    {
      "cell_type": "code",
      "source": [
        "#create directories/folders to copy files to\n",
        "!mkdir method_1 method_2 conditional_dir"
      ],
      "metadata": {
        "id": "tC0NI4fkMFlw",
        "colab": {
          "base_uri": "https://localhost:8080/"
        },
        "outputId": "d7b5317a-b1bd-46f6-f2c8-318118f6c14f"
      },
      "execution_count": 3,
      "outputs": [
        {
          "output_type": "stream",
          "name": "stdout",
          "text": [
            "mkdir: cannot create directory ‘method_1’: File exists\n",
            "mkdir: cannot create directory ‘method_2’: File exists\n",
            "mkdir: cannot create directory ‘conditional_dir’: File exists\n"
          ]
        }
      ]
    },
    {
      "cell_type": "markdown",
      "source": [
        "# **Method 1: `cp` Linux Command**"
      ],
      "metadata": {
        "id": "fW1_YdJsKyae"
      }
    },
    {
      "cell_type": "code",
      "source": [
        "#copy a single file\n",
        "!cp /content/sample_data/README.md /content"
      ],
      "metadata": {
        "id": "cLvJ7U-0K1VQ"
      },
      "execution_count": 4,
      "outputs": []
    },
    {
      "cell_type": "code",
      "source": [
        "!cat /content/README.md"
      ],
      "metadata": {
        "colab": {
          "base_uri": "https://localhost:8080/"
        },
        "id": "1XUurYpQNxpy",
        "outputId": "18fd0f70-ccdd-4c10-88ea-ff3744bd3b9b"
      },
      "execution_count": 5,
      "outputs": [
        {
          "output_type": "stream",
          "name": "stdout",
          "text": [
            "This directory includes a few sample datasets to get you started.\n",
            "\n",
            "*   `california_housing_data*.csv` is California housing data from the 1990 US\n",
            "    Census; more information is available at:\n",
            "    https://developers.google.com/machine-learning/crash-course/california-housing-data-description\n",
            "\n",
            "*   `mnist_*.csv` is a small sample of the\n",
            "    [MNIST database](https://en.wikipedia.org/wiki/MNIST_database), which is\n",
            "    described at: http://yann.lecun.com/exdb/mnist/\n",
            "\n",
            "*   `anscombe.json` contains a copy of\n",
            "    [Anscombe's quartet](https://en.wikipedia.org/wiki/Anscombe%27s_quartet); it\n",
            "    was originally described in\n",
            "\n",
            "    Anscombe, F. J. (1973). 'Graphs in Statistical Analysis'. American\n",
            "    Statistician. 27 (1): 17-21. JSTOR 2682899.\n",
            "\n",
            "    and our copy was prepared by the\n",
            "    [vega_datasets library](https://github.com/altair-viz/vega_datasets/blob/4f67bdaad10f45e3549984e17e1b3088c731503d/vega_datasets/_data/anscombe.json).\n"
          ]
        }
      ]
    },
    {
      "cell_type": "code",
      "source": [
        "#copy multiple files\n",
        "!cp -a /content/sample_data/. /content/method_1"
      ],
      "metadata": {
        "id": "KMlT9nwmLjD8"
      },
      "execution_count": 6,
      "outputs": []
    },
    {
      "cell_type": "code",
      "source": [
        "#copy files based on conditions\n",
        "%%bash\n",
        "directory='/content/sample_data'\n",
        "\n",
        "for file in '$directory'/*; do\n",
        "  if [[ $file == *'csv'* ]]; then\n",
        "    cp '$file' /content/conditional_dir\n",
        "  fi\n",
        "done"
      ],
      "metadata": {
        "id": "vbi8JNyn1y7l"
      },
      "execution_count": 7,
      "outputs": []
    },
    {
      "cell_type": "markdown",
      "source": [
        "# **Method 2: Python**"
      ],
      "metadata": {
        "id": "3PpSIYLBK_PA"
      }
    },
    {
      "cell_type": "code",
      "source": [
        "#copy a single file\n",
        "shutil.copy('/content/sample_data/california_housing_test.csv','/content')"
      ],
      "metadata": {
        "colab": {
          "base_uri": "https://localhost:8080/",
          "height": 35
        },
        "id": "7loLYxMiLDq5",
        "outputId": "50362417-cfa0-4bed-fff9-e43165f7d9e5"
      },
      "execution_count": 8,
      "outputs": [
        {
          "output_type": "execute_result",
          "data": {
            "text/plain": [
              "'/content/california_housing_test.csv'"
            ],
            "application/vnd.google.colaboratory.intrinsic+json": {
              "type": "string"
            }
          },
          "metadata": {},
          "execution_count": 8
        }
      ]
    },
    {
      "cell_type": "code",
      "source": [
        "!head -1 /content/california_housing_test.csv"
      ],
      "metadata": {
        "colab": {
          "base_uri": "https://localhost:8080/"
        },
        "id": "tzCm1IohOd9h",
        "outputId": "86d6bbdf-8559-4aef-f285-3f44c4aa5306"
      },
      "execution_count": 9,
      "outputs": [
        {
          "output_type": "stream",
          "name": "stdout",
          "text": [
            "\"longitude\",\"latitude\",\"housing_median_age\",\"total_rooms\",\"total_bedrooms\",\"population\",\"households\",\"median_income\",\"median_house_value\"\n"
          ]
        }
      ]
    },
    {
      "cell_type": "code",
      "source": [
        "#copy multiple files\n",
        "shutil.copytree('/content/sample_data', '/content/method_2', dirs_exist_ok=True)"
      ],
      "metadata": {
        "colab": {
          "base_uri": "https://localhost:8080/",
          "height": 35
        },
        "id": "0AHquCPNNcS2",
        "outputId": "efb0f162-d714-4dc4-a92d-a49366d3500d"
      },
      "execution_count": 10,
      "outputs": [
        {
          "output_type": "execute_result",
          "data": {
            "text/plain": [
              "'/content/method_2'"
            ],
            "application/vnd.google.colaboratory.intrinsic+json": {
              "type": "string"
            }
          },
          "metadata": {},
          "execution_count": 10
        }
      ]
    },
    {
      "cell_type": "code",
      "source": [
        "#copy files based on conditions\n",
        "source_directory = '/content/sample_data'\n",
        "\n",
        "for file in os.listdir(source_directory):\n",
        "  if 'csv' not in file:\n",
        "    shutil.copy(f'{source_directory}/{file}','/content/conditional_dir')"
      ],
      "metadata": {
        "id": "h1BXnKtv9OkT"
      },
      "execution_count": 11,
      "outputs": []
    },
    {
      "cell_type": "markdown",
      "source": [
        "# **References and Additional Learning**"
      ],
      "metadata": {
        "id": "mmVp4PSAf7w-"
      }
    },
    {
      "cell_type": "markdown",
      "source": [
        "## **Documentation**\n",
        "\n",
        "- **[`cp` Linux manual page](https://man7.org/linux/man-pages/man1/cp.1.html) from man7.org**\n",
        "\n",
        "- **[`shutil` Documentation](https://docs.python.org/3/library/shutil.html#module-shutil) from Python.org**"
      ],
      "metadata": {
        "id": "eOKhTR_HRDaU"
      }
    },
    {
      "cell_type": "markdown",
      "source": [
        "# **Connect**\n",
        "- **Feel free to connect with Adrian on [YouTube](https://www.youtube.com/channel/UCPuDxI3xb_ryUUMfkm0jsRA), [LinkedIn](https://www.linkedin.com/in/adrian-dolinay-frm-96a289106/), [Twitter](https://twitter.com/DolinayG), [GitHub](https://github.com/ad17171717), [Medium](https://adriandolinay.medium.com/) and [Odysee](https://odysee.com/@adriandolinay:0). Happy coding!**"
      ],
      "metadata": {
        "id": "YBaP_63dLF_D"
      }
    }
  ],
  "metadata": {
    "colab": {
      "provenance": [],
      "authorship_tag": "ABX9TyModvTebt51M8816tkJAbxk",
      "include_colab_link": true
    },
    "kernelspec": {
      "display_name": "Python 3",
      "name": "python3"
    },
    "language_info": {
      "name": "python"
    }
  },
  "nbformat": 4,
  "nbformat_minor": 0
}